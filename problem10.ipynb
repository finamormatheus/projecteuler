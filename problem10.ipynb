{
 "cells": [
  {
   "cell_type": "markdown",
   "metadata": {},
   "source": [
    "# Problem 10\n",
    "\n",
    "The sum of the primes below 10 is 2 + 3 + 5 + 7 = 17.\n",
    "\n",
    "Find the sum of all the primes below two million."
   ]
  },
  {
   "cell_type": "markdown",
   "metadata": {},
   "source": [
    "On problem 7 we developed an algorithm to make a list of prime numbers:"
   ]
  },
  {
   "cell_type": "code",
   "execution_count": 1,
   "metadata": {},
   "outputs": [],
   "source": [
    "import numpy as np\n",
    "from time import time"
   ]
  },
  {
   "cell_type": "code",
   "execution_count": 2,
   "metadata": {},
   "outputs": [
    {
     "name": "stdout",
     "output_type": "stream",
     "text": [
      "68.09597206115723\n"
     ]
    }
   ],
   "source": [
    "t0 = time()\n",
    "\n",
    "prime_list = [2]\n",
    "\n",
    "n = 3\n",
    "\n",
    "for n in range(3, 2000000, 2):\n",
    "    k = 0\n",
    "    for i in prime_list:\n",
    "        if i > np.sqrt(n):\n",
    "            break\n",
    "        elif n%i == 0:\n",
    "            k += 1\n",
    "            break\n",
    "    if k == 0:\n",
    "        prime_list.append(n)\n",
    "        \n",
    "t1 = time()\n",
    "\n",
    "print(t1-t0)"
   ]
  },
  {
   "cell_type": "code",
   "execution_count": 3,
   "metadata": {},
   "outputs": [
    {
     "data": {
      "text/plain": [
       "142913828922"
      ]
     },
     "execution_count": 3,
     "metadata": {},
     "output_type": "execute_result"
    }
   ],
   "source": [
    "prime_list = np.array(prime_list)\n",
    "\n",
    "np.sum(prime_list)"
   ]
  }
 ],
 "metadata": {
  "kernelspec": {
   "display_name": "Python 3",
   "language": "python",
   "name": "python3"
  },
  "language_info": {
   "codemirror_mode": {
    "name": "ipython",
    "version": 3
   },
   "file_extension": ".py",
   "mimetype": "text/x-python",
   "name": "python",
   "nbconvert_exporter": "python",
   "pygments_lexer": "ipython3",
   "version": "3.7.5"
  }
 },
 "nbformat": 4,
 "nbformat_minor": 4
}
