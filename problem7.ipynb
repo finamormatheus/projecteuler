{
 "cells": [
  {
   "cell_type": "markdown",
   "metadata": {},
   "source": [
    "# Problem 7\n",
    "\n",
    "By listing the first six prime numbers: 2, 3, 5, 7, 11, and 13, we can see that the 6th prime is 13.\n",
    "\n",
    "What is the 10 001st prime number?"
   ]
  },
  {
   "cell_type": "markdown",
   "metadata": {},
   "source": [
    "A number $n$ is prime if it has no prime factors less than $n$. Hence we only need to check if it is divisible by other primes.\n",
    "\n",
    "If a number $n$ is non-prime, having a factor $r$, then $n = rs$, where $s$ is also a factor. If $r \\geq \\sqrt{n}$ then $n = rs \\geq \\sqrt{n} s$, which implies that $s \\leq \\sqrt{n}$. In other words, any non-prime must have factors, and hence also prime factors, less than or equal to $\\sqrt{n}$. Thus to determine if a number is prime we have to check its prime factors only up to and including $\\sqrt{n}$ — if there are none then the number is prime.\n",
    "\n",
    "If we find even a single prime factor less than $\\sqrt{n}$ then we know that the number is non-prime, and hence there is no need to check any further — we can abandon this number and move on to something else."
   ]
  },
  {
   "cell_type": "code",
   "execution_count": 1,
   "metadata": {},
   "outputs": [],
   "source": [
    "import numpy as np"
   ]
  },
  {
   "cell_type": "code",
   "execution_count": 2,
   "metadata": {},
   "outputs": [
    {
     "data": {
      "text/plain": [
       "104743"
      ]
     },
     "execution_count": 2,
     "metadata": {},
     "output_type": "execute_result"
    }
   ],
   "source": [
    "prime_list = [2]\n",
    "\n",
    "n = 3\n",
    "\n",
    "while len(prime_list) <= 10000:\n",
    "    k = 0\n",
    "    for i in prime_list:\n",
    "        if i > np.sqrt(n):\n",
    "            break\n",
    "        elif n%i == 0:\n",
    "            k += 1\n",
    "            break\n",
    "    if k == 0:\n",
    "        prime_list.append(n)\n",
    "    n += 2 #only odd numbers are prime   \n",
    "    \n",
    "prime_list[-1]"
   ]
  }
 ],
 "metadata": {
  "kernelspec": {
   "display_name": "Python 3",
   "language": "python",
   "name": "python3"
  },
  "language_info": {
   "codemirror_mode": {
    "name": "ipython",
    "version": 3
   },
   "file_extension": ".py",
   "mimetype": "text/x-python",
   "name": "python",
   "nbconvert_exporter": "python",
   "pygments_lexer": "ipython3",
   "version": "3.7.5"
  }
 },
 "nbformat": 4,
 "nbformat_minor": 4
}
