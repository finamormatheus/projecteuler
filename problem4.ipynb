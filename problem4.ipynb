{
 "cells": [
  {
   "cell_type": "markdown",
   "metadata": {},
   "source": [
    "# Problem 4\n",
    "\n",
    "A palindromic number reads the same both ways. The largest palindrome made from the product of two 2-digit numbers is 9009 = 91 × 99.\n",
    "\n",
    "Find the largest palindrome made from the product of two 3-digit numbers."
   ]
  },
  {
   "cell_type": "code",
   "execution_count": 7,
   "metadata": {},
   "outputs": [],
   "source": [
    "import numpy as np"
   ]
  },
  {
   "cell_type": "code",
   "execution_count": 8,
   "metadata": {},
   "outputs": [],
   "source": [
    "def is_a_palindrome(n):\n",
    "    aux = n\n",
    "    \n",
    "    reversed_n = 0\n",
    "    while n>0:\n",
    "        digit = n%10\n",
    "        reversed_n = reversed_n*10 + digit\n",
    "        n = n//10\n",
    "    \n",
    "    n = aux\n",
    "    if reversed_n == n:\n",
    "        return True\n",
    "    else:\n",
    "        return False"
   ]
  },
  {
   "cell_type": "code",
   "execution_count": 20,
   "metadata": {},
   "outputs": [],
   "source": [
    "palindromes = []\n",
    "n1_list = []\n",
    "n2_list = []\n",
    "for n1 in range(100,1000):\n",
    "    for n2 in range(100, 1000):\n",
    "        if is_a_palindrome(n1*n2):\n",
    "            palindromes.append(n1*n2)\n",
    "            n1_list.append(n1)\n",
    "            n2_list.append(n2)\n",
    "            \n",
    "palindromes = np.array(palindromes)\n",
    "n1_list = np.array(n1_list)\n",
    "n2_list = np.array(n2_list)"
   ]
  },
  {
   "cell_type": "code",
   "execution_count": 24,
   "metadata": {},
   "outputs": [
    {
     "name": "stdout",
     "output_type": "stream",
     "text": [
      "913 x 993 = 906609\n"
     ]
    }
   ],
   "source": [
    "max_value = np.max(palindromes)\n",
    "n1_list = n1_list[palindromes == max_value]\n",
    "n2_list = n2_list[palindromes == max_value]\n",
    "\n",
    "print(n1_list[0], 'x', n2_list[0], '=', max_value)"
   ]
  }
 ],
 "metadata": {
  "kernelspec": {
   "display_name": "Python 3",
   "language": "python",
   "name": "python3"
  },
  "language_info": {
   "codemirror_mode": {
    "name": "ipython",
    "version": 3
   },
   "file_extension": ".py",
   "mimetype": "text/x-python",
   "name": "python",
   "nbconvert_exporter": "python",
   "pygments_lexer": "ipython3",
   "version": "3.7.5"
  }
 },
 "nbformat": 4,
 "nbformat_minor": 4
}
